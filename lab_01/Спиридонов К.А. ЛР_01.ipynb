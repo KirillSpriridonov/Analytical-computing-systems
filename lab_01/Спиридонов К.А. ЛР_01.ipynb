{
 "cells": [
  {
   "cell_type": "markdown",
   "metadata": {},
   "source": [
    "<h1>Задание 1 - часть 1 - Квадратик</h1>"
   ]
  },
  {
   "cell_type": "code",
   "execution_count": 1,
   "metadata": {},
   "outputs": [],
   "source": [
    "import math"
   ]
  },
  {
   "cell_type": "code",
   "execution_count": 2,
   "metadata": {},
   "outputs": [],
   "source": [
    "def matrixshif(matr, x, y):\n",
    "    return matr + matrix([[x, y] for i in range(5)])"
   ]
  },
  {
   "cell_type": "code",
   "execution_count": 3,
   "metadata": {},
   "outputs": [
    {
     "data": {
      "image/png": "[encoded data removed]",
      "text/plain": [
       "Graphics object consisting of 2 graphics primitives"
      ]
     },
     "metadata": {},
     "output_type": "display_data"
    }
   ],
   "source": [
    "a = 10\n",
    "dx = 20 # Смещение по x для повёрнутого квадрата\n",
    "dy = 15 # Смещение по y для повёрнутого квадрата\n",
    "rectangle_src_01 = matrix([\n",
    "    [0, 0],\n",
    "    [0, a],\n",
    "    [a, a],\n",
    "    [a, 0],\n",
    "    [0, 0]])\n",
    "alpha = math.radians(30)\n",
    "mat_rot = matrix([\n",
    "    [cos(alpha), sin(alpha)]\n",
    "    , [ -sin(alpha), cos(alpha)]\n",
    "])\n",
    "rectangle_rotated =  rectangle_src_01 * mat_rot\n",
    "rectangle_rotated = matrixshif(rectangle_rotated, 20, 20)\n",
    "\n",
    "show(\n",
    "    line(rectangle_src_01,rgbcolor = (0.8,0.2,0.3))\n",
    "    + line(rectangle_rotated,rgbcolor = (0.5,0.2,0.3))\n",
    "    , xmin=0, xmax=40, ymin=0, ymax=40, aspect_ratio=1)"
   ]
  },
  {
   "cell_type": "markdown",
   "metadata": {},
   "source": [
    "<h1>Задание 1 - часть 2 - Исследование функции</h1>\n",
    "Для заданной формулой функции $f(x) = \\frac{sin(2x^3)^2}{x^3}$ найти:\n",
    "<ol>\n",
    "    <li>Область определения функции.</li>\n",
    "    <li>Является ли функция четной или нечетной, является ли периодической.</li>\n",
    "    <li>Точки пересечения графика с осями координат.</li>\n",
    "    <li>Промежутки знакопостоянства.</li>\n",
    "    <li>Промежутки возрастания и убывания.</li>\n",
    "    <li>Точки экстремума и значения в этих точках.</li>\n",
    "    <li>Непрерывность. Наличие точек разрыва и их классификация.</li>\n",
    "    <li>Асимптоты.</li>\n",
    "</ol>\n",
    "Построить график функции, асимптоты, промежутки знакопостоянства. (см. папку с материалами).<br>\n",
    "Необходимо также сделать минимальное, но оформление решения, а не просто набор ответов."
   ]
  },
  {
   "cell_type": "markdown",
   "metadata": {},
   "source": [
    "<h3> Задание 1.1. Область определения функции.</h3>\n",
    "Функция $f(x) = \\frac{sin(2x^3)^2}{x^3}$ не определена, когда знаменатель принимает 0,\n",
    "т.е $x^3 = 0$."
   ]
  },
  {
   "cell_type": "code",
   "execution_count": 4,
   "metadata": {},
   "outputs": [
    {
     "data": {
      "text/plain": [
       "[x == 0]"
      ]
     },
     "execution_count": 4,
     "metadata": {},
     "output_type": "execute_result"
    }
   ],
   "source": [
    "solve(x^3, x)"
   ]
  },
  {
   "cell_type": "markdown",
   "metadata": {},
   "source": [
    "Знаменатель принимает 0 только при x = 0 $=>$ $x\\in (-\\infty; 0)\\cup(0,\\infty).$"
   ]
  },
  {
   "cell_type": "markdown",
   "metadata": {},
   "source": [
    "<h3> Задание 1.2. Является ли функция четной или нечетной, является ли периодической</h3>"
   ]
  },
  {
   "cell_type": "code",
   "execution_count": 5,
   "metadata": {},
   "outputs": [
    {
     "data": {
      "text/html": [
       "<html><script type=\"math/tex; mode=display\">\\newcommand{\\Bold}[1]{\\mathbf{#1}}\\frac{\\sin\\left(2 \\, x^{3}\\right)^{2}}{x^{3}}</script></html>"
      ],
      "text/latex": [
       "\\begin{math}\n",
       "\\newcommand{\\Bold}[1]{\\mathbf{#1}}\\frac{\\sin\\left(2 \\, x^{3}\\right)^{2}}{x^{3}}\n",
       "\\end{math}"
      ],
      "text/plain": [
       "sin(2*x^3)^2/x^3"
      ]
     },
     "metadata": {},
     "output_type": "display_data"
    }
   ],
   "source": [
    "f = sin(2*x**3)**2/x**3\n",
    "show(f)"
   ]
  },
  {
   "cell_type": "markdown",
   "metadata": {},
   "source": [
    "Определение: Функция ${\\displaystyle f:X\\to \\mathbb {R} }$ называется чётной, если справедливо равенство: $f(-x)=f(x),\\quad \\forall x\\in X.$"
   ]
  },
  {
   "cell_type": "code",
   "execution_count": 6,
   "metadata": {},
   "outputs": [],
   "source": [
    "y(x) = sin(2*x**3)**2/x**3 - sin(2*(-x)**3)**2/(-x)**3"
   ]
  },
  {
   "cell_type": "code",
   "execution_count": 7,
   "metadata": {},
   "outputs": [
    {
     "data": {
      "text/html": [
       "<html><script type=\"math/tex; mode=display\">\\newcommand{\\Bold}[1]{\\mathbf{#1}}\\frac{\\sin\\left(2 \\, x^{3}\\right)^{2}}{x^{3}} + \\frac{\\sin\\left(-2 \\, x^{3}\\right)^{2}}{x^{3}}</script></html>"
      ],
      "text/latex": [
       "\\begin{math}\n",
       "\\newcommand{\\Bold}[1]{\\mathbf{#1}}\\frac{\\sin\\left(2 \\, x^{3}\\right)^{2}}{x^{3}} + \\frac{\\sin\\left(-2 \\, x^{3}\\right)^{2}}{x^{3}}\n",
       "\\end{math}"
      ],
      "text/plain": [
       "sin(2*x^3)^2/x^3 + sin(-2*x^3)^2/x^3"
      ]
     },
     "metadata": {},
     "output_type": "display_data"
    }
   ],
   "source": [
    "show(y(x))"
   ]
  },
  {
   "cell_type": "code",
   "execution_count": 8,
   "metadata": {},
   "outputs": [
    {
     "data": {
      "text/html": [
       "<html><script type=\"math/tex; mode=display\">\\newcommand{\\Bold}[1]{\\mathbf{#1}}\\frac{2 \\, \\sin\\left(2 \\, x^{3}\\right)^{2}}{x^{3}}</script></html>"
      ],
      "text/latex": [
       "\\begin{math}\n",
       "\\newcommand{\\Bold}[1]{\\mathbf{#1}}\\frac{2 \\, \\sin\\left(2 \\, x^{3}\\right)^{2}}{x^{3}}\n",
       "\\end{math}"
      ],
      "text/plain": [
       "2*sin(2*x^3)^2/x^3"
      ]
     },
     "metadata": {},
     "output_type": "display_data"
    }
   ],
   "source": [
    "show(y(x).simplify())"
   ]
  },
  {
   "cell_type": "markdown",
   "metadata": {},
   "source": [
    "Из того, что $y \\neq 0$, следует, что $f$ *не является чётной*"
   ]
  },
  {
   "cell_type": "markdown",
   "metadata": {},
   "source": [
    "Функция называется нечётной, если справедливо равенство: $f(-x) = -f(x),\\quad \\forall x\\in X.$"
   ]
  },
  {
   "cell_type": "code",
   "execution_count": 9,
   "metadata": {},
   "outputs": [],
   "source": [
    "y(x) = sin(2*(-x)**3)**2/(-x)**3 + sin(2*x**3)**2/x**3"
   ]
  },
  {
   "cell_type": "code",
   "execution_count": 10,
   "metadata": {},
   "outputs": [
    {
     "data": {
      "text/html": [
       "<html><script type=\"math/tex; mode=display\">\\newcommand{\\Bold}[1]{\\mathbf{#1}}0</script></html>"
      ],
      "text/latex": [
       "\\begin{math}\n",
       "\\newcommand{\\Bold}[1]{\\mathbf{#1}}0\n",
       "\\end{math}"
      ],
      "text/plain": [
       "0"
      ]
     },
     "metadata": {},
     "output_type": "display_data"
    }
   ],
   "source": [
    "show(y(x).simplify())"
   ]
  },
  {
   "cell_type": "markdown",
   "metadata": {},
   "source": [
    "Равенство выполняется, следовательно, $f$ - *нечёнтная функция*"
   ]
  },
  {
   "cell_type": "markdown",
   "metadata": {},
   "source": [
    "Для определения периодичности функции воспользуемся её графиком"
   ]
  },
  {
   "cell_type": "code",
   "execution_count": 11,
   "metadata": {},
   "outputs": [
    {
     "data": {
      "image/png": "[encoded data removed]",
      "text/plain": [
       "Graphics object consisting of 1 graphics primitive"
      ]
     },
     "execution_count": 11,
     "metadata": {},
     "output_type": "execute_result"
    }
   ],
   "source": [
    "plot(f,xmax = 10, ymax = 1.5)"
   ]
  },
  {
   "cell_type": "markdown",
   "metadata": {},
   "source": [
    "Из графика видно, что функция не является периодической.\n",
    "\n",
    "Можно рассуждать ещё так:\n",
    "$sin(x^3)^2 \\leqslant 1$, а $\\frac{1}{x^3}$ монотонно убывающая на отрезке $[1,+\\infty]$"
   ]
  },
  {
   "cell_type": "markdown",
   "metadata": {},
   "source": [
    "<h3>Задание 1.1. Точки пересечения графика с осями координат.</h3>"
   ]
  },
  {
   "cell_type": "markdown",
   "metadata": {},
   "source": [
    "Для анализа точек пересечения с осями координат будем опираться на график. Функция $f(x) = \\frac{sin(2x^3)^2}{x^3}$ пересекает ось Ox когда $f(x) = 0$. Поэтому построим график для числителя функции."
   ]
  },
  {
   "cell_type": "code",
   "execution_count": 12,
   "metadata": {},
   "outputs": [
    {
     "data": {
      "text/latex": [
       "$\\displaystyle \\left\\{x \\mid x \\in \\mathbb{C} \\wedge \\sin^{2}{\\left(2 x^{3} \\right)} = 0 \\right\\} \\setminus \\left\\{0\\right\\}$"
      ],
      "text/plain": [
       "Complement(ConditionSet(x, Eq(sin(2*x**3)**2, 0), Complexes), FiniteSet(0))"
      ]
     },
     "execution_count": 12,
     "metadata": {},
     "output_type": "execute_result"
    }
   ],
   "source": [
    "# Для исходной функции f solve() не находит решения вообще:\n",
    "solve(f, x, algorithm = 'sympy')"
   ]
  },
  {
   "cell_type": "code",
   "execution_count": 13,
   "metadata": {},
   "outputs": [
    {
     "data": {
      "image/png": "[encoded data removed]",
      "text/plain": [
       "Graphics object consisting of 1 graphics primitive"
      ]
     },
     "execution_count": 13,
     "metadata": {},
     "output_type": "execute_result"
    }
   ],
   "source": [
    "plot(sin(x^3)^2,xmax=10,ymax=1.5)"
   ]
  },
  {
   "cell_type": "markdown",
   "metadata": {},
   "source": [
    "При анализе необходимо учитывать область определения. Функция f неопределена в точке $x=0$ "
   ]
  },
  {
   "cell_type": "code",
   "execution_count": 14,
   "metadata": {},
   "outputs": [
    {
     "data": {
      "text/html": [
       "<html><script type=\"math/tex; mode=display\">\\newcommand{\\Bold}[1]{\\mathbf{#1}}\\left[x = \\left(\\pi z_{1720}\\right)^{\\frac{1}{3}}, x = \\frac{1}{2} \\, \\left(\\pi z_{1720}\\right)^{\\frac{1}{3}} {\\left(i \\, \\sqrt{3} - 1\\right)}, x = -\\frac{1}{2} \\, \\left(\\pi z_{1720}\\right)^{\\frac{1}{3}} {\\left(i \\, \\sqrt{3} + 1\\right)}\\right]</script></html>"
      ],
      "text/latex": [
       "\\begin{math}\n",
       "\\newcommand{\\Bold}[1]{\\mathbf{#1}}\\left[x = \\left(\\pi z_{1720}\\right)^{\\frac{1}{3}}, x = \\frac{1}{2} \\, \\left(\\pi z_{1720}\\right)^{\\frac{1}{3}} {\\left(i \\, \\sqrt{3} - 1\\right)}, x = -\\frac{1}{2} \\, \\left(\\pi z_{1720}\\right)^{\\frac{1}{3}} {\\left(i \\, \\sqrt{3} + 1\\right)}\\right]\n",
       "\\end{math}"
      ],
      "text/plain": [
       "[x == (pi*z1720)^(1/3),\n",
       " x == 1/2*(pi*z1720)^(1/3)*(I*sqrt(3) - 1),\n",
       " x == -1/2*(pi*z1720)^(1/3)*(I*sqrt(3) + 1)]"
      ]
     },
     "metadata": {},
     "output_type": "display_data"
    }
   ],
   "source": [
    "show(solve(sin(x^3)^2 == 0, x, to_poly_solve='force'))"
   ]
  },
  {
   "cell_type": "markdown",
   "metadata": {},
   "source": [
    "Функция $f(x) = \\frac{sin(2x^3)^2}{x^3}$ пересекает ось Ox при значении $x = (\\pi\\mathbb {Z}\\backslash0)^\\frac{1}{3}$"
   ]
  },
  {
   "cell_type": "markdown",
   "metadata": {},
   "source": [
    "Пересечение функции оси Oy происходит когда $x = 0$, но исходная функция не определена в этой точке."
   ]
  },
  {
   "cell_type": "markdown",
   "metadata": {},
   "source": [
    "<h3> Задание 1.4. Промежутки знакопостоянства.</h3>"
   ]
  },
  {
   "cell_type": "code",
   "execution_count": 15,
   "metadata": {},
   "outputs": [
    {
     "data": {
      "text/html": [
       "<script type=\"math/tex; mode=display\">f(x) >= 0: \\sin\\left(x^{3}\\right) = 0 \\wedge x \\neq 0 \\cup 0 < x \\wedge \\sin\\left(x^{3}\\right) \\neq 0 </script>"
      ],
      "text/plain": [
       "<script type=\"math/tex; mode=display\">f(x) >= 0: \\sin\\left(x^{3}\\right) = 0 \\wedge x \\neq 0 \\cup 0 < x \\wedge \\sin\\left(x^{3}\\right) \\neq 0 </script>"
      ]
     },
     "metadata": {},
     "output_type": "display_data"
    }
   ],
   "source": [
    "sols = solve((sin(x^3)^2/x^3)>=0,x)\n",
    "show(html('$f(x) >= 0: '+latex(sols[0][0])+'\\\\wedge'+ latex(sols[0][1])+'\\\\cup'+latex(sols[1][0])+'\\\\wedge'+ latex(sols[1][1])+' $'))"
   ]
  },
  {
   "cell_type": "code",
   "execution_count": 16,
   "metadata": {},
   "outputs": [
    {
     "data": {
      "text/html": [
       "<script type=\"math/tex; mode=display\">f(x) <= 0: \\sin\\left(x^{3}\\right) = 0 \\wedge x \\neq 0 \\cup -x^{3} > 0 \\wedge \\sin\\left(x^{3}\\right) \\neq 0 </script>"
      ],
      "text/plain": [
       "<script type=\"math/tex; mode=display\">f(x) <= 0: \\sin\\left(x^{3}\\right) = 0 \\wedge x \\neq 0 \\cup -x^{3} > 0 \\wedge \\sin\\left(x^{3}\\right) \\neq 0 </script>"
      ]
     },
     "metadata": {},
     "output_type": "display_data"
    }
   ],
   "source": [
    "sols = solve((sin(x^3)^2/x^3)<=0,x)\n",
    "show(html('$f(x) <= 0: '+latex(sols[0][0])+'\\\\wedge'+ latex(sols[0][1])+'\\\\cup'+latex(sols[1][0])+'\\\\wedge'+ latex(sols[1][1])+' $'))"
   ]
  },
  {
   "cell_type": "markdown",
   "metadata": {},
   "source": [
    "<h3> Задание 1.5. Промежутки возрастания и убывания.</h3>"
   ]
  },
  {
   "cell_type": "markdown",
   "metadata": {},
   "source": [
    "Функция f ворзастает на интегрируемом промежутке, если $ f'(x) > 0$"
   ]
  },
  {
   "cell_type": "code",
   "execution_count": 17,
   "metadata": {},
   "outputs": [
    {
     "data": {
      "text/html": [
       "<script type=\"math/tex\">f'(x) = \\frac{12 \\, \\cos\\left(2 \\, x^{3}\\right) \\sin\\left(2 \\, x^{3}\\right)}{x} - \\frac{3 \\, \\sin\\left(2 \\, x^{3}\\right)^{2}}{x^{4}}</script>"
      ],
      "text/plain": [
       "<script type=\"math/tex\">f'(x) = \\frac{12 \\, \\cos\\left(2 \\, x^{3}\\right) \\sin\\left(2 \\, x^{3}\\right)}{x} - \\frac{3 \\, \\sin\\left(2 \\, x^{3}\\right)^{2}}{x^{4}}</script>"
      ]
     },
     "metadata": {},
     "output_type": "display_data"
    }
   ],
   "source": [
    "df = diff(f,x).simplify()\n",
    "show(html(\"f'(x) = \"+latex(df)))"
   ]
  },
  {
   "cell_type": "code",
   "execution_count": 18,
   "metadata": {},
   "outputs": [
    {
     "data": {
      "text/html": [
       "<script type=\"math/tex; mode=display\">f'(x) > 0 \\:при\\:x \\in \\left[-\\sin\\left(2 \\, x^{3}\\right) > 0, -4 \\, x^{3} \\cos\\left(2 \\, x^{3}\\right) + \\sin\\left(2 \\, x^{3}\\right) > 0\\right] \\:и\\: при\\:x\\in \\left[\\sin\\left(2 \\, x^{3}\\right) > 0, 4 \\, x^{3} \\cos\\left(2 \\, x^{3}\\right) - \\sin\\left(2 \\, x^{3}\\right) > 0\\right] </script>"
      ],
      "text/plain": [
       "<script type=\"math/tex; mode=display\">f'(x) > 0 \\:при\\:x \\in \\left[-\\sin\\left(2 \\, x^{3}\\right) > 0, -4 \\, x^{3} \\cos\\left(2 \\, x^{3}\\right) + \\sin\\left(2 \\, x^{3}\\right) > 0\\right] \\:и\\: при\\:x\\in \\left[\\sin\\left(2 \\, x^{3}\\right) > 0, 4 \\, x^{3} \\cos\\left(2 \\, x^{3}\\right) - \\sin\\left(2 \\, x^{3}\\right) > 0\\right] </script>"
      ]
     },
     "metadata": {},
     "output_type": "display_data"
    }
   ],
   "source": [
    "sols = solve(df>0,x,to_poly_solve='force')\n",
    "show(html(\"$f'(x) > 0 \\\\:при\\\\:x \\\\in\"+latex(sols[0])+\"\\\\:и\\\\:\"+\"при\\\\:x\\\\in\"+latex(sols[1])+\"$\"))"
   ]
  },
  {
   "cell_type": "code",
   "execution_count": 19,
   "metadata": {},
   "outputs": [
    {
     "data": {
      "image/png": "[encoded data removed]",
      "text/plain": [
       "Graphics object consisting of 1 graphics primitive"
      ]
     },
     "execution_count": 19,
     "metadata": {},
     "output_type": "execute_result"
    }
   ],
   "source": [
    "plot(df,xmax=10,ymax=10,xmin=-10)"
   ]
  },
  {
   "cell_type": "markdown",
   "metadata": {},
   "source": [
    "<h3> Задание 1.6. Точки экстремума и значения в этих точках.</h3>"
   ]
  },
  {
   "cell_type": "markdown",
   "metadata": {},
   "source": [
    "$Необходимое\\:условие\\:экстремума:\\\\\n",
    "Если\\:в\\:точке\\:x_0\\:есть\\:экстремум,\\:то\\:f'(x_0)=0\\:либо\\:значения\\:f'(x_0)\\:не\\:существует.\\\\\n",
    "Достаточное\\:условие\\:экстремума:\\\\\n",
    "–\\:если\\:при\\:переходе\\:через\\:точку\\:производная\\:меняе\\:знак\\:с\\:«плюса»\\:на\\:«минус»,\\:то\\:в\\:данной\\:точке\\:функция\\:достигает\\:максимума;\\\\\n",
    "– \\:если\\:при\\:переходе\\:через\\:точку\\:производная\\:меняе\\:знак\\:с\\:«плюса»\\:на\\:«минус»,\\:то\\:в\\:данной\\:точке\\:функция\\:достигает\\:максимума.$"
   ]
  },
  {
   "cell_type": "code",
   "execution_count": 20,
   "metadata": {},
   "outputs": [],
   "source": [
    "solvs = solve(df==0,x)"
   ]
  },
  {
   "cell_type": "code",
   "execution_count": 21,
   "metadata": {},
   "outputs": [
    {
     "data": {
      "text/html": [
       "<html><script type=\"math/tex; mode=display\">\\newcommand{\\Bold}[1]{\\mathbf{#1}}\\left[x = 0, x^{3} = \\frac{\\sin\\left(2 \\, x^{3}\\right)}{4 \\, \\cos\\left(2 \\, x^{3}\\right)}\\right]</script></html>"
      ],
      "text/latex": [
       "\\begin{math}\n",
       "\\newcommand{\\Bold}[1]{\\mathbf{#1}}\\left[x = 0, x^{3} = \\frac{\\sin\\left(2 \\, x^{3}\\right)}{4 \\, \\cos\\left(2 \\, x^{3}\\right)}\\right]\n",
       "\\end{math}"
      ],
      "text/plain": [
       "[x == 0, x^3 == 1/4*sin(2*x^3)/cos(2*x^3)]"
      ]
     },
     "metadata": {},
     "output_type": "display_data"
    }
   ],
   "source": [
    "show(solvs)"
   ]
  },
  {
   "cell_type": "markdown",
   "metadata": {},
   "source": [
    "Хотя функция solve() возращает только два решения, на самом деле функция $f'(x)$ имеет бесконечное число точек, при которых $f'(x)=0$ (выводы сделаны на основе графика)"
   ]
  },
  {
   "cell_type": "markdown",
   "metadata": {},
   "source": [
    "<h3> Задание 1.7. Непрерывность. Наличие точек разрыва и их классификация.</h3>"
   ]
  },
  {
   "cell_type": "markdown",
   "metadata": {},
   "source": [
    "$Рассмотрим\\:предел\\:возле\\:точки\\:x_0 = 0$"
   ]
  },
  {
   "cell_type": "code",
   "execution_count": 22,
   "metadata": {},
   "outputs": [
    {
     "data": {
      "text/html": [
       "<script type=\"math/tex; mode=display\">\\lim_{x\\to-0} \\frac{\\sin\\left(2 \\, x^{3}\\right)^{2}}{x^{3}} = 0 </script>"
      ],
      "text/plain": [
       "<script type=\"math/tex; mode=display\">\\lim_{x\\to-0} \\frac{\\sin\\left(2 \\, x^{3}\\right)^{2}}{x^{3}} = 0 </script>"
      ]
     },
     "metadata": {},
     "output_type": "display_data"
    }
   ],
   "source": [
    "ans = limit(f,x=-0)\n",
    "show(html(\"$\"+\"\\\\lim_{x\\\\to-0}\"+latex(f)+\"=\"+latex(ans)+\"$\"))"
   ]
  },
  {
   "cell_type": "code",
   "execution_count": 23,
   "metadata": {},
   "outputs": [
    {
     "data": {
      "text/html": [
       "<script type=\"math/tex; mode=display\">\\lim_{x\\to+0} \\frac{\\sin\\left(2 \\, x^{3}\\right)^{2}}{x^{3}} = 0 </script>"
      ],
      "text/plain": [
       "<script type=\"math/tex; mode=display\">\\lim_{x\\to+0} \\frac{\\sin\\left(2 \\, x^{3}\\right)^{2}}{x^{3}} = 0 </script>"
      ]
     },
     "metadata": {},
     "output_type": "display_data"
    }
   ],
   "source": [
    "ans = limit(f,x=+0)\n",
    "show(html(\"$\"+\"\\\\lim_{x\\\\to+0}\"+latex(f)+\"=\"+latex(ans)+\"$\"))"
   ]
  },
  {
   "cell_type": "markdown",
   "metadata": {},
   "source": [
    "$Поскольку\\:оба\\: предела \\:конечны,\\: то\\: точка \\:разрыва\\: x_0 = 0 \\:является\\: первого \\:рода$"
   ]
  },
  {
   "cell_type": "markdown",
   "metadata": {},
   "source": [
    "<h3> Задание 1.8. Асимптоты.</h3>"
   ]
  },
  {
   "cell_type": "markdown",
   "metadata": {},
   "source": [
    "Проверим наличие асимптоты в точке разрыва:"
   ]
  },
  {
   "cell_type": "code",
   "execution_count": 24,
   "metadata": {},
   "outputs": [
    {
     "data": {
      "text/html": [
       "<script type=\"math/tex; mode=display\">\\lim_{x\\to0} \\frac{\\sin\\left(2 \\, x^{3}\\right)^{2}}{x^{3}} = 0 </script>"
      ],
      "text/plain": [
       "<script type=\"math/tex; mode=display\">\\lim_{x\\to0} \\frac{\\sin\\left(2 \\, x^{3}\\right)^{2}}{x^{3}} = 0 </script>"
      ]
     },
     "metadata": {},
     "output_type": "display_data"
    }
   ],
   "source": [
    "ans = limit(f,x=0)\n",
    "show(html(\"$\"+\"\\\\lim_{x\\\\to0}\"+latex(f)+\"=\"+latex(ans)+\"$\"))"
   ]
  },
  {
   "cell_type": "markdown",
   "metadata": {},
   "source": [
    "Следовательно функция не имеет вертикальных асимптот.\n",
    "Проверим наличие горизонтальных асимптот:"
   ]
  },
  {
   "cell_type": "code",
   "execution_count": 25,
   "metadata": {},
   "outputs": [
    {
     "data": {
      "text/html": [
       "<script type=\"math/tex; mode=display\">\\lim_{x\\to+\\infty} \\frac{\\sin\\left(2 \\, x^{3}\\right)^{2}}{x^{3}} = 0 </script>"
      ],
      "text/plain": [
       "<script type=\"math/tex; mode=display\">\\lim_{x\\to+\\infty} \\frac{\\sin\\left(2 \\, x^{3}\\right)^{2}}{x^{3}} = 0 </script>"
      ]
     },
     "metadata": {},
     "output_type": "display_data"
    }
   ],
   "source": [
    "ans = limit(f,x=+infinity)\n",
    "show(html(\"$\"+\"\\\\lim_{x\\\\to+\\\\infty}\"+latex(f)+\"=\"+latex(ans)+\"$\"))"
   ]
  },
  {
   "cell_type": "code",
   "execution_count": 26,
   "metadata": {},
   "outputs": [
    {
     "data": {
      "text/html": [
       "<script type=\"math/tex; mode=display\">\\lim_{x\\to-\\infty} \\frac{\\sin\\left(2 \\, x^{3}\\right)^{2}}{x^{3}} = 0 </script>"
      ],
      "text/plain": [
       "<script type=\"math/tex; mode=display\">\\lim_{x\\to-\\infty} \\frac{\\sin\\left(2 \\, x^{3}\\right)^{2}}{x^{3}} = 0 </script>"
      ]
     },
     "metadata": {},
     "output_type": "display_data"
    }
   ],
   "source": [
    "ans = limit(f,x=-infinity)\n",
    "show(html(\"$\"+\"\\\\lim_{x\\\\to-\\\\infty}\"+latex(f)+\"=\"+latex(ans)+\"$\"))"
   ]
  },
  {
   "cell_type": "markdown",
   "metadata": {},
   "source": [
    "Т.к. получили конечные одинаковые пределы, следовательно, делаем выводы, что y = 0 - есть асимптота функции f."
   ]
  }
 ],
 "metadata": {
  "kernelspec": {
   "display_name": "SageMath 9.2",
   "language": "sage",
   "name": "sagemath"
  },
  "language_info": {
   "codemirror_mode": {
    "name": "ipython",
    "version": 3
   },
   "file_extension": ".py",
   "mimetype": "text/x-python",
   "name": "python",
   "nbconvert_exporter": "python",
   "pygments_lexer": "ipython3",
   "version": "3.7.7"
  }
 },
 "nbformat": 4,
 "nbformat_minor": 4
}
